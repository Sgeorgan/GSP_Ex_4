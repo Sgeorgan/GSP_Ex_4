{
 "cells": [
  {
   "cell_type": "markdown",
   "id": "668eb593-15a7-4065-ad25-a88ae83d7838",
   "metadata": {},
   "source": [
    "# Objective\n",
    "\n",
    "The main objective of this exercise is to find out how many people live in informal settlements, or so-called 'slums', in the Dakar metropolitan area in Senegal. To solve this, you will make use of different operations you have learned in this week's and previous lectures and exercises. Do not forget to take a look at the hints for this exercise!\n",
    "\n",
    "## Data Description\n",
    "\n",
    "- **Census Shapefile for Dakar (Level 4 Administrative Level for 2012) `[census.shp]`**: This layer contains 2 main columns:\n",
    "  - `Department`: Refers to a coarser administrative level (Level 3).\n",
    "  - `POPULATION`: Describes the total population at each of the polygon units.\n",
    "\n",
    "- **Informal Settlements Shapefile `[informal_nb]`**: A shapefile of the informal settlements in the Dakar metropolitan area.\n",
    "\n",
    "- **Population Polygon Grid**: At roughly 100-meter resolution. It contains a column named `VALUE` that records the population of each cell.\n",
    "\n",
    "## Let's Start!\n",
    "\n"
   ]
  },
  {
   "cell_type": "markdown",
   "id": "d049bc08-51bc-400b-8b68-6ec7c60fccac",
   "metadata": {},
   "source": [
    "# Initial Steps\n",
    "\n",
    "First of all, load the 3 layers as Geopandas data frames and give them appropriate names:\n",
    "\n",
    "1. **Census Data**: Load the census shapefile for Dakar  as a Geopandas DataFrame. Consider naming it `df_census` for clarity.\n",
    "\n",
    "2. **Informal Settlements**: Load the shapefile of the informal settlements in the Dakar metropolitan area into a Geopandas DataFrame. A suggested name could be `df_informal_settlements`.\n",
    "\n",
    "3. **Population Grid**: Load the population polygon grid, which is at roughly 100-meter resolution, into a Geopandas DataFrame. You might name it `df_population_grid`.\n",
    "\n",
    "After loading these layers, proceed with the analysis as instructed.\n"
   ]
  },
  {
   "cell_type": "code",
   "execution_count": null,
   "id": "e857d1a2-9c7b-4f0a-8b80-f93a334b10ca",
   "metadata": {},
   "outputs": [],
   "source": []
  },
  {
   "cell_type": "code",
   "execution_count": null,
   "id": "848fa37b-ef9a-4ee7-a967-deb66e39e9eb",
   "metadata": {},
   "outputs": [],
   "source": []
  },
  {
   "cell_type": "markdown",
   "id": "ae9ed691-d41c-4023-8005-7e8f9ea5852d",
   "metadata": {},
   "source": [
    "# Task 1: Dissolve the Census Layer\n",
    "\n",
    "## Objective\n",
    "\n",
    "The goal of this task is to dissolve the census layer into a coarser administrative level (Level 3).\n",
    "\n",
    "### Step 1: Visualize the Population\n",
    "\n",
    "- **Plot the Census**: Visualize the `POPULATION` column by plotting the census layer. Consider adding a legend as well. This step will help in understanding the distribution of the population across the Dakar metropolitan area.\n",
    "\n",
    "- **Optional**: You can consider computing the population density as well as it can be more informative to visualise.\n"
   ]
  },
  {
   "cell_type": "code",
   "execution_count": null,
   "id": "ae3e1449-3bae-4c79-9e4d-4d26533376e6",
   "metadata": {},
   "outputs": [],
   "source": [
    "\n"
   ]
  },
  {
   "cell_type": "markdown",
   "id": "15820d3b-6bc5-4781-9de4-49aa208fdbce",
   "metadata": {},
   "source": [
    "### Step 2: Dissolve the Census Layer by Department\n",
    "\n",
    "- **Dissolve Operation**: Use the `Department` column to dissolve the census layer. Aggregate the data by summing up the values in the `POPULATION` column to get the total population for each Department.\n",
    "\n",
    "- **Reset the Index**: After the dissolve operation, reset the index so that the `Department` becomes a column again. This is important for maintaining the structure of your DataFrame for further analysis.\n",
    "\n"
   ]
  },
  {
   "cell_type": "code",
   "execution_count": null,
   "id": "891effb5-26f4-43ea-b72e-5fb0645a7d25",
   "metadata": {},
   "outputs": [],
   "source": []
  },
  {
   "cell_type": "markdown",
   "id": "e76b436d-8315-4cd3-83cc-3edfa559a178",
   "metadata": {},
   "source": [
    "### Step 3: Plot the Dissolved Census Layer\n",
    "\n",
    "- Plot the dissolved census layer, using the `POPULATION` column. Ensure that your plot includes a legend to represent the population distribution across different departments effectively.\n",
    "\n",
    "- Again optionally, you can compute and also visualize the population density instead."
   ]
  },
  {
   "cell_type": "code",
   "execution_count": null,
   "id": "c91592b9-c9c9-4e06-aacf-0b0d938fa86e",
   "metadata": {},
   "outputs": [],
   "source": [
    "\n"
   ]
  },
  {
   "cell_type": "markdown",
   "id": "e2c23214-20ee-40d9-9890-285dcd5c19c4",
   "metadata": {},
   "source": [
    "Question: What is the population of each Department in Dakar Metropolitan area?"
   ]
  },
  {
   "cell_type": "markdown",
   "id": "ae212175-f7c5-4953-9965-578852371312",
   "metadata": {},
   "source": [
    "# Task 2: Population in Informal Settlements by Department\n",
    "\n",
    "## Objective\n",
    "\n",
    "The goal of this task is to determine the total population living in informal settlements within each Department in Dakar.\n",
    "\n",
    "### Step 1: Intersect Informal Settlements with the Dissolved Census Layer\n",
    "\n",
    "- **Intersection Operation**: Perform an intersection between the informal settlements layer and the dissolved census layer. This operation will help identify the parts of the census polygons that overlap with informal settlements.\n",
    "-  **Visualize** the intersected layer using the 'Department Column'\n",
    "\n"
   ]
  },
  {
   "cell_type": "code",
   "execution_count": null,
   "id": "180987eb-a483-49d3-927b-2c005eb47eec",
   "metadata": {},
   "outputs": [],
   "source": [
    "\n"
   ]
  },
  {
   "cell_type": "code",
   "execution_count": null,
   "id": "3eb1a455-7882-4bf4-9795-5d462ee5f526",
   "metadata": {},
   "outputs": [],
   "source": []
  },
  {
   "cell_type": "markdown",
   "id": "9abb4149-34dd-4dde-88dd-e44041abec5e",
   "metadata": {},
   "source": [
    "### Step 2: Spatial Join with the Population Grid\n",
    "\n",
    "- **Spatial Join**: Perform a spatial join between the layer resulting from the intersection and the population grid layer. This join will allow you to attribute the population data from the grid to the corresponding areas of informal settlements.\n",
    "\n",
    "- **Coordinate Reference System (CRS) Check**: Before performing the spatial join, ensure both layers are in the same CRS. If they are not, reproject one of the layers to match the CRS of the other. \n",
    "\n"
   ]
  },
  {
   "cell_type": "code",
   "execution_count": null,
   "id": "0c91211a-c79c-4c41-8f16-e1f98c97fd7d",
   "metadata": {},
   "outputs": [],
   "source": []
  },
  {
   "cell_type": "markdown",
   "id": "eca95732-5f0b-4dda-aa55-4164aa73b59c",
   "metadata": {},
   "source": [
    "Now plot your new layer after the spatial join using the 'VALUE' column and a legend. If it seems to be working, now you can see the distribution of the population of the informal settlements across Dakar!"
   ]
  },
  {
   "cell_type": "code",
   "execution_count": null,
   "id": "949a93cc-584b-4606-b063-d89238b9bf52",
   "metadata": {},
   "outputs": [],
   "source": []
  },
  {
   "cell_type": "markdown",
   "id": "d9a31d57-cde9-4885-aad4-ba191173354e",
   "metadata": {},
   "source": [
    "### Step 3: Aggregate Population Data by Department\n",
    "\n",
    "- **Group and Summarize**: After the spatial join, group the resulting data by the `Department` column. Summarize the `VALUE` column, which represents the population in each grid cell, to calculate the total population living in informal settlements for each Department.\n",
    "\n",
    "- **New DataFrame Creation**: Create a new DataFrame from this grouped data. This new DataFrame should contain columns for each Department and their corresponding population on informal settlements.\n",
    "\n"
   ]
  },
  {
   "cell_type": "code",
   "execution_count": null,
   "id": "e6dc47e5-2dbe-49c3-a3d0-5f91ceda2b6a",
   "metadata": {},
   "outputs": [],
   "source": []
  },
  {
   "cell_type": "markdown",
   "id": "53bbddda-bdb6-4909-bc1c-a16384eb3578",
   "metadata": {},
   "source": [
    "### Step 4: Merge Informal Population Data with Dissolved Census Layer\n",
    "\n",
    "- **Merge Data**: Use the `merge` function to combine the new DataFrame containing the total population in informal settlements per Department with the previously dissolved census layer. The merge should be based on the `Department` column, which is common to both datasets.\n",
    "\n",
    "- **Ensure Consistency**: Before merging, ensure that the `Department` column names and data types are consistent across both DataFrames to avoid any merging issues.\n",
    "\n",
    "This final step integrates the detailed population analysis back into the broader census context, providing a comprehensive view of the population distribution, both in general and within informal settlements, across the Dakar metropolitan area's departments.\n"
   ]
  },
  {
   "cell_type": "code",
   "execution_count": null,
   "id": "79963bbb-557c-492d-a688-bce72f7cfd3d",
   "metadata": {},
   "outputs": [],
   "source": []
  },
  {
   "cell_type": "code",
   "execution_count": null,
   "id": "7f4ab305-3921-4289-9bb3-6126c592a154",
   "metadata": {},
   "outputs": [],
   "source": []
  },
  {
   "cell_type": "code",
   "execution_count": null,
   "id": "e4338525-77ea-477e-aaff-264f22320366",
   "metadata": {},
   "outputs": [],
   "source": []
  },
  {
   "cell_type": "markdown",
   "id": "25dc072e-0db9-4d1d-902b-669694daaf33",
   "metadata": {},
   "source": [
    "- What is the proportion of people living in informal settlements per Department in comparison to the total population?\n",
    "- Classify the proportion in a new column into 2 or 3 classes (for instance low, medium, high), according to your preference.\n",
    "- Optional: Plot a map with the new classes\n",
    "-  Make sure your code is well commented"
   ]
  },
  {
   "cell_type": "code",
   "execution_count": null,
   "id": "f969cf3e-a148-4ab0-9bd2-ebe5cb353706",
   "metadata": {},
   "outputs": [],
   "source": []
  }
 ],
 "metadata": {
  "kernelspec": {
   "display_name": "Python (new_geopy_env)",
   "language": "python",
   "name": "new_geopy_env"
  },
  "language_info": {
   "codemirror_mode": {
    "name": "ipython",
    "version": 3
   },
   "file_extension": ".py",
   "mimetype": "text/x-python",
   "name": "python",
   "nbconvert_exporter": "python",
   "pygments_lexer": "ipython3",
   "version": "3.11.8"
  }
 },
 "nbformat": 4,
 "nbformat_minor": 5
}
